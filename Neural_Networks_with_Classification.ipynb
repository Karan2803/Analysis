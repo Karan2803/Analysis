{
  "nbformat": 4,
  "nbformat_minor": 0,
  "metadata": {
    "colab": {
      "provenance": [],
      "authorship_tag": "ABX9TyMKdjdQmxuxbFKBylX7cdth",
      "include_colab_link": true
    },
    "kernelspec": {
      "name": "python3",
      "display_name": "Python 3"
    },
    "language_info": {
      "name": "python"
    }
  },
  "cells": [
    {
      "cell_type": "markdown",
      "metadata": {
        "id": "view-in-github",
        "colab_type": "text"
      },
      "source": [
        "<a href=\"https://colab.research.google.com/github/Karan2803/Iris-Flower/blob/main/Neural_Networks_with_Classification.ipynb\" target=\"_parent\"><img src=\"https://colab.research.google.com/assets/colab-badge.svg\" alt=\"Open In Colab\"/></a>"
      ]
    },
    {
      "cell_type": "code",
      "execution_count": null,
      "metadata": {
        "id": "Ei_PlBjFRpAh"
      },
      "outputs": [],
      "source": [
        "import tensorflow as tf"
      ]
    },
    {
      "cell_type": "code",
      "source": [
        "from sklearn.datasets import make_classification"
      ],
      "metadata": {
        "id": "l3tjqj0ISAbG"
      },
      "execution_count": null,
      "outputs": []
    },
    {
      "cell_type": "code",
      "source": [
        "X,y = make_classification(1000, n_features=10, random_state=42)"
      ],
      "metadata": {
        "id": "S8apHKEISAeb"
      },
      "execution_count": null,
      "outputs": []
    },
    {
      "cell_type": "code",
      "source": [
        "tf.constant(X)"
      ],
      "metadata": {
        "colab": {
          "base_uri": "https://localhost:8080/"
        },
        "id": "pzAWEZtaXbAB",
        "outputId": "a9b42924-f250-4c9f-d8d6-34cc3dae3136"
      },
      "execution_count": null,
      "outputs": [
        {
          "output_type": "execute_result",
          "data": {
            "text/plain": [
              "<tf.Tensor: shape=(1000, 10), dtype=float64, numpy=\n",
              "array([[ 0.96479937, -0.06644898,  0.98676805, ..., -1.2101605 ,\n",
              "        -0.62807677,  1.22727382],\n",
              "       [-0.91651053, -0.56639459, -1.00861409, ..., -0.98453405,\n",
              "         0.36389642,  0.20947008],\n",
              "       [-0.10948373, -0.43277388, -0.4576493 , ..., -0.2463834 ,\n",
              "        -1.05814521, -0.29737608],\n",
              "       ...,\n",
              "       [ 1.67463306,  1.75493307,  1.58615382, ...,  0.69272276,\n",
              "        -1.50384972,  0.22526412],\n",
              "       [-0.77860873, -0.83568901, -0.19484228, ..., -0.49735437,\n",
              "         2.47213818,  0.86718741],\n",
              "       [ 0.24845351, -1.0034389 ,  0.36046013, ...,  0.77323999,\n",
              "         0.1857344 ,  1.41641179]])>"
            ]
          },
          "metadata": {},
          "execution_count": 46
        }
      ]
    },
    {
      "cell_type": "code",
      "source": [
        "from sklearn.model_selection import train_test_split"
      ],
      "metadata": {
        "id": "CsCwCv0mYD1z"
      },
      "execution_count": null,
      "outputs": []
    },
    {
      "cell_type": "code",
      "source": [
        "X_train, X_test, y_train, y_test = train_test_split(X, y, random_state=42)"
      ],
      "metadata": {
        "id": "7KZUHAmPYILg"
      },
      "execution_count": null,
      "outputs": []
    },
    {
      "cell_type": "code",
      "source": [
        "tf.constant(y)"
      ],
      "metadata": {
        "colab": {
          "base_uri": "https://localhost:8080/"
        },
        "id": "Ocx4eU64XdxR",
        "outputId": "f2b615fc-ac67-491c-a9c2-5e9859b16b6c"
      },
      "execution_count": null,
      "outputs": [
        {
          "output_type": "execute_result",
          "data": {
            "text/plain": [
              "<tf.Tensor: shape=(1000,), dtype=int64, numpy=\n",
              "array([0, 1, 1, 0, 1, 0, 0, 1, 1, 0, 0, 1, 0, 1, 1, 1, 0, 1, 1, 1, 0, 0,\n",
              "       1, 1, 0, 0, 0, 0, 1, 1, 1, 0, 0, 1, 0, 0, 0, 0, 1, 1, 0, 1, 0, 1,\n",
              "       0, 0, 0, 1, 1, 1, 1, 0, 0, 0, 1, 0, 0, 1, 0, 1, 0, 1, 1, 1, 1, 0,\n",
              "       0, 0, 1, 1, 1, 0, 1, 1, 0, 1, 1, 0, 1, 0, 1, 0, 1, 1, 1, 0, 1, 1,\n",
              "       0, 1, 0, 0, 0, 0, 1, 0, 1, 1, 0, 1, 0, 1, 0, 1, 0, 1, 0, 0, 1, 0,\n",
              "       0, 1, 1, 0, 0, 0, 1, 0, 1, 0, 0, 1, 0, 1, 1, 1, 1, 1, 0, 0, 0, 0,\n",
              "       0, 0, 0, 1, 0, 0, 0, 1, 1, 0, 1, 1, 0, 0, 1, 1, 0, 1, 1, 0, 1, 1,\n",
              "       0, 0, 1, 1, 0, 1, 1, 1, 0, 0, 1, 1, 0, 1, 1, 1, 1, 1, 0, 1, 0, 0,\n",
              "       0, 1, 0, 1, 1, 0, 0, 1, 1, 0, 0, 1, 1, 1, 0, 0, 1, 1, 0, 0, 1, 0,\n",
              "       0, 0, 0, 0, 0, 0, 1, 0, 0, 1, 1, 1, 0, 1, 0, 1, 1, 0, 0, 1, 0, 1,\n",
              "       0, 1, 1, 0, 0, 1, 1, 0, 0, 0, 1, 0, 1, 1, 0, 1, 1, 1, 1, 1, 1, 1,\n",
              "       0, 0, 0, 1, 1, 0, 1, 1, 0, 0, 0, 0, 0, 1, 0, 1, 1, 1, 1, 1, 1, 0,\n",
              "       0, 1, 1, 1, 1, 0, 1, 0, 0, 1, 1, 1, 0, 1, 1, 0, 1, 0, 1, 1, 1, 1,\n",
              "       1, 1, 0, 0, 0, 1, 1, 1, 1, 0, 1, 1, 1, 0, 1, 1, 1, 0, 0, 1, 1, 1,\n",
              "       0, 1, 1, 1, 0, 1, 1, 0, 1, 0, 1, 1, 0, 0, 1, 1, 1, 0, 1, 1, 0, 0,\n",
              "       0, 1, 0, 1, 0, 1, 0, 0, 1, 1, 1, 1, 0, 0, 0, 0, 1, 0, 0, 1, 1, 0,\n",
              "       0, 1, 0, 0, 1, 0, 1, 1, 1, 0, 0, 1, 0, 0, 1, 0, 0, 0, 1, 1, 0, 1,\n",
              "       0, 1, 0, 1, 0, 0, 1, 0, 1, 1, 0, 0, 1, 1, 1, 0, 1, 0, 0, 0, 0, 0,\n",
              "       0, 0, 0, 1, 0, 0, 0, 0, 0, 0, 1, 1, 0, 0, 0, 0, 1, 0, 1, 0, 1, 0,\n",
              "       1, 0, 0, 1, 1, 0, 1, 1, 0, 0, 1, 1, 1, 1, 0, 1, 1, 1, 1, 0, 0, 1,\n",
              "       0, 0, 0, 0, 1, 1, 0, 0, 1, 0, 1, 1, 0, 0, 0, 1, 0, 0, 1, 0, 0, 1,\n",
              "       0, 0, 0, 1, 0, 0, 1, 1, 0, 0, 0, 1, 1, 1, 0, 1, 0, 0, 0, 0, 1, 0,\n",
              "       1, 1, 1, 1, 1, 0, 0, 0, 0, 1, 1, 1, 1, 1, 1, 0, 1, 1, 1, 0, 1, 1,\n",
              "       0, 1, 0, 1, 1, 0, 0, 0, 1, 1, 1, 0, 0, 1, 1, 0, 0, 0, 0, 0, 1, 1,\n",
              "       0, 1, 0, 0, 1, 1, 0, 1, 0, 1, 1, 0, 1, 0, 0, 1, 0, 0, 0, 0, 0, 0,\n",
              "       0, 0, 1, 0, 0, 1, 0, 1, 1, 1, 1, 1, 1, 1, 0, 0, 1, 1, 1, 0, 0, 1,\n",
              "       1, 0, 1, 0, 1, 1, 0, 0, 1, 1, 1, 1, 1, 1, 0, 1, 0, 1, 1, 1, 1, 0,\n",
              "       0, 0, 0, 1, 1, 1, 1, 1, 0, 1, 1, 1, 0, 1, 0, 0, 0, 1, 1, 1, 1, 1,\n",
              "       0, 1, 0, 0, 0, 0, 0, 0, 1, 0, 0, 0, 1, 0, 0, 1, 1, 0, 0, 0, 1, 0,\n",
              "       1, 0, 0, 1, 1, 1, 0, 0, 0, 1, 1, 0, 0, 1, 1, 1, 0, 0, 1, 1, 1, 0,\n",
              "       1, 0, 1, 1, 0, 1, 0, 0, 0, 1, 1, 0, 1, 0, 1, 0, 0, 1, 1, 1, 1, 0,\n",
              "       1, 0, 1, 0, 1, 1, 0, 0, 1, 0, 1, 1, 1, 0, 1, 0, 1, 0, 0, 0, 0, 0,\n",
              "       1, 1, 1, 0, 1, 1, 0, 1, 1, 0, 0, 1, 1, 1, 1, 1, 0, 0, 0, 0, 1, 0,\n",
              "       0, 1, 0, 1, 1, 1, 1, 0, 0, 0, 1, 1, 0, 0, 1, 0, 1, 0, 0, 0, 1, 1,\n",
              "       0, 1, 0, 0, 0, 0, 0, 0, 0, 0, 1, 0, 1, 1, 0, 0, 0, 0, 0, 1, 1, 1,\n",
              "       1, 0, 0, 0, 0, 0, 0, 1, 0, 1, 1, 0, 1, 1, 0, 1, 0, 1, 1, 0, 0, 0,\n",
              "       0, 0, 1, 1, 1, 0, 0, 1, 1, 1, 1, 0, 0, 0, 1, 0, 0, 1, 1, 0, 0, 0,\n",
              "       0, 0, 1, 0, 1, 1, 0, 0, 0, 1, 1, 0, 0, 0, 1, 0, 1, 1, 1, 0, 0, 0,\n",
              "       0, 1, 0, 1, 0, 0, 1, 0, 0, 0, 1, 0, 1, 0, 0, 0, 0, 0, 0, 1, 1, 0,\n",
              "       0, 0, 1, 1, 1, 0, 1, 0, 0, 1, 0, 1, 1, 0, 1, 1, 1, 1, 0, 0, 1, 1,\n",
              "       1, 0, 0, 1, 1, 0, 1, 1, 0, 1, 1, 0, 1, 0, 0, 1, 1, 0, 1, 0, 0, 1,\n",
              "       0, 0, 1, 1, 1, 0, 1, 1, 1, 1, 0, 0, 0, 0, 1, 1, 1, 0, 1, 1, 1, 1,\n",
              "       1, 0, 0, 0, 1, 0, 1, 0, 0, 0, 1, 1, 1, 0, 1, 0, 1, 0, 0, 0, 1, 0,\n",
              "       0, 1, 1, 1, 1, 0, 0, 1, 0, 1, 1, 1, 1, 1, 0, 0, 1, 0, 0, 1, 1, 0,\n",
              "       0, 1, 0, 1, 0, 1, 0, 0, 1, 0, 1, 1, 1, 0, 0, 0, 1, 1, 0, 0, 0, 0,\n",
              "       0, 1, 1, 0, 0, 1, 1, 0, 0, 0])>"
            ]
          },
          "metadata": {},
          "execution_count": 47
        }
      ]
    },
    {
      "cell_type": "code",
      "source": [
        "tf.constant(X_train)"
      ],
      "metadata": {
        "colab": {
          "base_uri": "https://localhost:8080/"
        },
        "id": "MLCDSDEbk62U",
        "outputId": "d4309cb6-138f-4107-e5fe-2a7a593c4967"
      },
      "execution_count": null,
      "outputs": [
        {
          "output_type": "execute_result",
          "data": {
            "text/plain": [
              "<tf.Tensor: shape=(750, 10), dtype=float64, numpy=\n",
              "array([[-1.01232181,  0.28123049, -0.87512274, ...,  1.15469377,\n",
              "         1.18259881, -1.27036205],\n",
              "       [-0.02101069,  0.74744497, -0.03870931, ..., -0.10435845,\n",
              "        -0.04258589,  0.45015563],\n",
              "       [ 0.37607013,  0.33385997,  0.24958079, ..., -1.31221919,\n",
              "        -0.68607663,  1.08176673],\n",
              "       ...,\n",
              "       [ 0.04091467,  0.42796263, -0.00235298, ..., -1.92277177,\n",
              "        -0.17104772,  1.63925652],\n",
              "       [ 0.3393792 , -0.64015446,  0.25253995, ..., -1.39922826,\n",
              "        -0.52991248, -0.7348109 ],\n",
              "       [ 1.84815207, -0.31305803,  1.78069642, ...,  0.60451533,\n",
              "        -1.56102804, -1.25040773]])>"
            ]
          },
          "metadata": {},
          "execution_count": 51
        }
      ]
    },
    {
      "cell_type": "code",
      "source": [
        "X_train.shape"
      ],
      "metadata": {
        "colab": {
          "base_uri": "https://localhost:8080/"
        },
        "id": "fpdLJMBzYwMr",
        "outputId": "4e924a07-ec5c-4594-d2da-d276c7d0d7f2"
      },
      "execution_count": null,
      "outputs": [
        {
          "output_type": "execute_result",
          "data": {
            "text/plain": [
              "(750, 10)"
            ]
          },
          "metadata": {},
          "execution_count": 52
        }
      ]
    },
    {
      "cell_type": "code",
      "source": [
        "tf.constant(y_train)"
      ],
      "metadata": {
        "colab": {
          "base_uri": "https://localhost:8080/"
        },
        "id": "FJ8o8v3OlDmh",
        "outputId": "a6882294-4464-4f98-e4bf-7202da1d8198"
      },
      "execution_count": null,
      "outputs": [
        {
          "output_type": "execute_result",
          "data": {
            "text/plain": [
              "<tf.Tensor: shape=(750,), dtype=int64, numpy=\n",
              "array([1, 1, 0, 0, 0, 1, 1, 1, 1, 0, 1, 1, 1, 1, 0, 0, 0, 1, 1, 0, 0, 1,\n",
              "       0, 0, 0, 0, 1, 1, 0, 1, 1, 0, 1, 0, 1, 1, 1, 0, 0, 1, 0, 1, 1, 0,\n",
              "       0, 1, 1, 1, 1, 0, 0, 0, 1, 1, 0, 1, 0, 1, 1, 1, 0, 0, 1, 0, 1, 0,\n",
              "       0, 0, 0, 0, 0, 0, 1, 1, 1, 0, 0, 1, 1, 0, 0, 1, 0, 0, 0, 1, 1, 0,\n",
              "       1, 1, 1, 0, 0, 1, 0, 0, 1, 0, 0, 0, 0, 1, 1, 1, 1, 0, 1, 1, 1, 0,\n",
              "       0, 1, 1, 1, 1, 1, 0, 1, 1, 0, 1, 1, 1, 1, 0, 0, 0, 1, 1, 0, 1, 0,\n",
              "       0, 0, 0, 1, 1, 0, 0, 0, 0, 1, 1, 1, 0, 0, 0, 0, 0, 0, 0, 0, 0, 0,\n",
              "       0, 1, 0, 1, 0, 1, 1, 1, 0, 0, 0, 0, 1, 1, 0, 0, 1, 1, 0, 1, 1, 0,\n",
              "       1, 1, 1, 0, 1, 1, 0, 0, 1, 0, 0, 0, 0, 1, 0, 1, 0, 1, 0, 1, 0, 0,\n",
              "       1, 0, 1, 1, 0, 0, 1, 0, 0, 1, 1, 1, 0, 0, 1, 0, 1, 0, 0, 0, 0, 0,\n",
              "       0, 0, 1, 1, 0, 0, 1, 0, 1, 0, 1, 1, 1, 0, 1, 1, 0, 0, 1, 1, 0, 1,\n",
              "       0, 0, 0, 0, 1, 1, 1, 0, 1, 1, 0, 1, 0, 0, 1, 1, 1, 0, 1, 1, 1, 1,\n",
              "       1, 1, 1, 1, 0, 1, 1, 0, 1, 1, 1, 0, 0, 0, 0, 0, 1, 1, 0, 1, 0, 1,\n",
              "       1, 1, 1, 0, 1, 0, 1, 1, 0, 0, 0, 0, 1, 1, 1, 1, 1, 1, 0, 0, 0, 1,\n",
              "       0, 1, 0, 0, 0, 1, 0, 0, 0, 0, 1, 1, 1, 1, 0, 1, 1, 0, 1, 0, 1, 0,\n",
              "       0, 1, 1, 0, 0, 1, 1, 0, 1, 0, 1, 1, 0, 0, 0, 0, 1, 0, 0, 0, 1, 1,\n",
              "       1, 1, 1, 0, 0, 0, 0, 0, 1, 1, 0, 1, 0, 0, 1, 0, 1, 0, 1, 1, 0, 1,\n",
              "       0, 0, 1, 1, 1, 1, 0, 0, 1, 1, 0, 1, 0, 0, 0, 0, 0, 0, 0, 1, 0, 1,\n",
              "       0, 0, 1, 0, 0, 0, 1, 0, 1, 1, 0, 0, 0, 1, 1, 1, 0, 0, 1, 1, 0, 1,\n",
              "       1, 0, 0, 0, 1, 1, 0, 0, 0, 0, 0, 1, 1, 0, 0, 1, 0, 0, 0, 1, 0, 0,\n",
              "       1, 1, 0, 1, 0, 1, 0, 1, 1, 1, 1, 0, 1, 0, 1, 1, 1, 1, 0, 0, 0, 0,\n",
              "       0, 0, 0, 0, 1, 0, 0, 1, 1, 0, 0, 0, 1, 0, 0, 1, 0, 0, 1, 0, 0, 0,\n",
              "       1, 0, 1, 0, 0, 0, 0, 1, 0, 0, 1, 1, 0, 0, 1, 0, 1, 1, 1, 1, 0, 1,\n",
              "       1, 1, 0, 1, 1, 0, 1, 1, 1, 0, 1, 0, 1, 1, 1, 0, 0, 1, 0, 1, 1, 1,\n",
              "       1, 0, 0, 1, 1, 0, 0, 0, 1, 0, 0, 0, 1, 0, 0, 1, 1, 0, 1, 0, 0, 1,\n",
              "       0, 1, 1, 1, 0, 0, 1, 1, 0, 0, 1, 1, 0, 1, 0, 0, 1, 0, 0, 1, 1, 1,\n",
              "       1, 1, 0, 0, 0, 0, 0, 1, 0, 0, 1, 1, 1, 1, 1, 0, 1, 0, 0, 0, 0, 0,\n",
              "       0, 1, 0, 1, 1, 1, 0, 1, 1, 0, 0, 0, 1, 1, 0, 0, 0, 0, 1, 1, 0, 1,\n",
              "       1, 0, 1, 0, 1, 0, 1, 1, 0, 1, 1, 0, 1, 1, 0, 0, 0, 1, 0, 0, 0, 0,\n",
              "       1, 0, 0, 1, 1, 0, 0, 0, 0, 1, 1, 1, 0, 1, 0, 0, 1, 1, 1, 0, 0, 0,\n",
              "       0, 0, 1, 0, 0, 1, 0, 0, 1, 1, 0, 0, 0, 0, 0, 0, 1, 0, 1, 0, 0, 0,\n",
              "       0, 1, 1, 0, 1, 1, 1, 0, 0, 1, 0, 1, 1, 1, 1, 1, 0, 1, 1, 1, 1, 1,\n",
              "       1, 0, 1, 0, 1, 0, 1, 1, 1, 1, 0, 0, 1, 0, 1, 0, 1, 0, 0, 0, 0, 0,\n",
              "       0, 1, 0, 0, 0, 1, 0, 1, 0, 1, 1, 0, 1, 0, 1, 1, 0, 0, 0, 0, 1, 1,\n",
              "       1, 0])>"
            ]
          },
          "metadata": {},
          "execution_count": 66
        }
      ]
    },
    {
      "cell_type": "code",
      "source": [
        "y_train = y_train.reshape(-1,1)\n",
        "y_test = y_test.reshape(-1,1)"
      ],
      "metadata": {
        "id": "YBRZINww39Ws"
      },
      "execution_count": null,
      "outputs": []
    },
    {
      "cell_type": "code",
      "source": [],
      "metadata": {
        "id": "71CjneDB4LkC"
      },
      "execution_count": null,
      "outputs": []
    },
    {
      "cell_type": "code",
      "source": [
        "# Build the model\n",
        "\n",
        "model = tf.keras.Sequential([\n",
        "    tf.keras.layers.Input(shape=(10)),\n",
        "    tf.keras.layers.Dense(100, activation='relu'),\n",
        "    tf.keras.layers.Dense(1, activation='sigmoid')\n",
        "])\n",
        "\n",
        "# Compile the model\n",
        "\n",
        "model.compile(loss=tf.keras.losses.BinaryCrossentropy(),\n",
        "              optimizer=tf.keras.optimizers.Adam(),\n",
        "              metrics=['accuracy'])\n",
        "\n",
        "# Fit the model\n",
        "\n",
        "model.fit(X_train, y_train, epochs=100)"
      ],
      "metadata": {
        "colab": {
          "base_uri": "https://localhost:8080/"
        },
        "id": "t-CEAjpXSAiC",
        "outputId": "eb9c9f74-65be-466f-907c-645a06375f48"
      },
      "execution_count": null,
      "outputs": [
        {
          "output_type": "stream",
          "name": "stdout",
          "text": [
            "Epoch 1/100\n",
            "24/24 [==============================] - 1s 5ms/step - loss: 0.7088 - accuracy: 0.5213\n",
            "Epoch 2/100\n",
            "24/24 [==============================] - 0s 4ms/step - loss: 0.5534 - accuracy: 0.8120\n",
            "Epoch 3/100\n",
            "24/24 [==============================] - 0s 4ms/step - loss: 0.4632 - accuracy: 0.8533\n",
            "Epoch 4/100\n",
            "24/24 [==============================] - 0s 2ms/step - loss: 0.4082 - accuracy: 0.8640\n",
            "Epoch 5/100\n",
            "24/24 [==============================] - 0s 3ms/step - loss: 0.3715 - accuracy: 0.8747\n",
            "Epoch 6/100\n",
            "24/24 [==============================] - 0s 2ms/step - loss: 0.3484 - accuracy: 0.8773\n",
            "Epoch 7/100\n",
            "24/24 [==============================] - 0s 2ms/step - loss: 0.3330 - accuracy: 0.8800\n",
            "Epoch 8/100\n",
            "24/24 [==============================] - 0s 2ms/step - loss: 0.3230 - accuracy: 0.8800\n",
            "Epoch 9/100\n",
            "24/24 [==============================] - 0s 2ms/step - loss: 0.3177 - accuracy: 0.8773\n",
            "Epoch 10/100\n",
            "24/24 [==============================] - 0s 2ms/step - loss: 0.3113 - accuracy: 0.8787\n",
            "Epoch 11/100\n",
            "24/24 [==============================] - 0s 2ms/step - loss: 0.3074 - accuracy: 0.8800\n",
            "Epoch 12/100\n",
            "24/24 [==============================] - 0s 2ms/step - loss: 0.3045 - accuracy: 0.8760\n",
            "Epoch 13/100\n",
            "24/24 [==============================] - 0s 2ms/step - loss: 0.3020 - accuracy: 0.8787\n",
            "Epoch 14/100\n",
            "24/24 [==============================] - 0s 3ms/step - loss: 0.2992 - accuracy: 0.8800\n",
            "Epoch 15/100\n",
            "24/24 [==============================] - 0s 2ms/step - loss: 0.2970 - accuracy: 0.8813\n",
            "Epoch 16/100\n",
            "24/24 [==============================] - 0s 2ms/step - loss: 0.2949 - accuracy: 0.8787\n",
            "Epoch 17/100\n",
            "24/24 [==============================] - 0s 2ms/step - loss: 0.2931 - accuracy: 0.8787\n",
            "Epoch 18/100\n",
            "24/24 [==============================] - 0s 2ms/step - loss: 0.2916 - accuracy: 0.8800\n",
            "Epoch 19/100\n",
            "24/24 [==============================] - 0s 2ms/step - loss: 0.2909 - accuracy: 0.8747\n",
            "Epoch 20/100\n",
            "24/24 [==============================] - 0s 2ms/step - loss: 0.2879 - accuracy: 0.8787\n",
            "Epoch 21/100\n",
            "24/24 [==============================] - 0s 2ms/step - loss: 0.2862 - accuracy: 0.8800\n",
            "Epoch 22/100\n",
            "24/24 [==============================] - 0s 2ms/step - loss: 0.2851 - accuracy: 0.8773\n",
            "Epoch 23/100\n",
            "24/24 [==============================] - 0s 2ms/step - loss: 0.2847 - accuracy: 0.8800\n",
            "Epoch 24/100\n",
            "24/24 [==============================] - 0s 3ms/step - loss: 0.2823 - accuracy: 0.8760\n",
            "Epoch 25/100\n",
            "24/24 [==============================] - 0s 2ms/step - loss: 0.2809 - accuracy: 0.8787\n",
            "Epoch 26/100\n",
            "24/24 [==============================] - 0s 2ms/step - loss: 0.2797 - accuracy: 0.8787\n",
            "Epoch 27/100\n",
            "24/24 [==============================] - 0s 2ms/step - loss: 0.2783 - accuracy: 0.8840\n",
            "Epoch 28/100\n",
            "24/24 [==============================] - 0s 2ms/step - loss: 0.2780 - accuracy: 0.8800\n",
            "Epoch 29/100\n",
            "24/24 [==============================] - 0s 2ms/step - loss: 0.2765 - accuracy: 0.8840\n",
            "Epoch 30/100\n",
            "24/24 [==============================] - 0s 2ms/step - loss: 0.2762 - accuracy: 0.8800\n",
            "Epoch 31/100\n",
            "24/24 [==============================] - 0s 3ms/step - loss: 0.2736 - accuracy: 0.8800\n",
            "Epoch 32/100\n",
            "24/24 [==============================] - 0s 2ms/step - loss: 0.2731 - accuracy: 0.8787\n",
            "Epoch 33/100\n",
            "24/24 [==============================] - 0s 2ms/step - loss: 0.2719 - accuracy: 0.8827\n",
            "Epoch 34/100\n",
            "24/24 [==============================] - 0s 2ms/step - loss: 0.2704 - accuracy: 0.8800\n",
            "Epoch 35/100\n",
            "24/24 [==============================] - 0s 2ms/step - loss: 0.2697 - accuracy: 0.8800\n",
            "Epoch 36/100\n",
            "24/24 [==============================] - 0s 2ms/step - loss: 0.2689 - accuracy: 0.8813\n",
            "Epoch 37/100\n",
            "24/24 [==============================] - 0s 2ms/step - loss: 0.2673 - accuracy: 0.8813\n",
            "Epoch 38/100\n",
            "24/24 [==============================] - 0s 3ms/step - loss: 0.2666 - accuracy: 0.8853\n",
            "Epoch 39/100\n",
            "24/24 [==============================] - 0s 2ms/step - loss: 0.2658 - accuracy: 0.8853\n",
            "Epoch 40/100\n",
            "24/24 [==============================] - 0s 2ms/step - loss: 0.2652 - accuracy: 0.8867\n",
            "Epoch 41/100\n",
            "24/24 [==============================] - 0s 2ms/step - loss: 0.2639 - accuracy: 0.8853\n",
            "Epoch 42/100\n",
            "24/24 [==============================] - 0s 2ms/step - loss: 0.2629 - accuracy: 0.8813\n",
            "Epoch 43/100\n",
            "24/24 [==============================] - 0s 2ms/step - loss: 0.2618 - accuracy: 0.8840\n",
            "Epoch 44/100\n",
            "24/24 [==============================] - 0s 2ms/step - loss: 0.2612 - accuracy: 0.8853\n",
            "Epoch 45/100\n",
            "24/24 [==============================] - 0s 2ms/step - loss: 0.2601 - accuracy: 0.8853\n",
            "Epoch 46/100\n",
            "24/24 [==============================] - 0s 2ms/step - loss: 0.2592 - accuracy: 0.8827\n",
            "Epoch 47/100\n",
            "24/24 [==============================] - 0s 2ms/step - loss: 0.2583 - accuracy: 0.8867\n",
            "Epoch 48/100\n",
            "24/24 [==============================] - 0s 2ms/step - loss: 0.2589 - accuracy: 0.8880\n",
            "Epoch 49/100\n",
            "24/24 [==============================] - 0s 2ms/step - loss: 0.2582 - accuracy: 0.8853\n",
            "Epoch 50/100\n",
            "24/24 [==============================] - 0s 2ms/step - loss: 0.2562 - accuracy: 0.8853\n",
            "Epoch 51/100\n",
            "24/24 [==============================] - 0s 2ms/step - loss: 0.2563 - accuracy: 0.8893\n",
            "Epoch 52/100\n",
            "24/24 [==============================] - 0s 2ms/step - loss: 0.2544 - accuracy: 0.8893\n",
            "Epoch 53/100\n",
            "24/24 [==============================] - 0s 2ms/step - loss: 0.2538 - accuracy: 0.8893\n",
            "Epoch 54/100\n",
            "24/24 [==============================] - 0s 2ms/step - loss: 0.2526 - accuracy: 0.8907\n",
            "Epoch 55/100\n",
            "24/24 [==============================] - 0s 3ms/step - loss: 0.2520 - accuracy: 0.8907\n",
            "Epoch 56/100\n",
            "24/24 [==============================] - 0s 2ms/step - loss: 0.2511 - accuracy: 0.8907\n",
            "Epoch 57/100\n",
            "24/24 [==============================] - 0s 2ms/step - loss: 0.2503 - accuracy: 0.8867\n",
            "Epoch 58/100\n",
            "24/24 [==============================] - 0s 2ms/step - loss: 0.2491 - accuracy: 0.8907\n",
            "Epoch 59/100\n",
            "24/24 [==============================] - 0s 2ms/step - loss: 0.2478 - accuracy: 0.8920\n",
            "Epoch 60/100\n",
            "24/24 [==============================] - 0s 2ms/step - loss: 0.2473 - accuracy: 0.8947\n",
            "Epoch 61/100\n",
            "24/24 [==============================] - 0s 2ms/step - loss: 0.2462 - accuracy: 0.8920\n",
            "Epoch 62/100\n",
            "24/24 [==============================] - 0s 2ms/step - loss: 0.2453 - accuracy: 0.8947\n",
            "Epoch 63/100\n",
            "24/24 [==============================] - 0s 2ms/step - loss: 0.2443 - accuracy: 0.8960\n",
            "Epoch 64/100\n",
            "24/24 [==============================] - 0s 2ms/step - loss: 0.2439 - accuracy: 0.8947\n",
            "Epoch 65/100\n",
            "24/24 [==============================] - 0s 2ms/step - loss: 0.2425 - accuracy: 0.8973\n",
            "Epoch 66/100\n",
            "24/24 [==============================] - 0s 2ms/step - loss: 0.2419 - accuracy: 0.8973\n",
            "Epoch 67/100\n",
            "24/24 [==============================] - 0s 2ms/step - loss: 0.2412 - accuracy: 0.9000\n",
            "Epoch 68/100\n",
            "24/24 [==============================] - 0s 3ms/step - loss: 0.2400 - accuracy: 0.8987\n",
            "Epoch 69/100\n",
            "24/24 [==============================] - 0s 2ms/step - loss: 0.2388 - accuracy: 0.8973\n",
            "Epoch 70/100\n",
            "24/24 [==============================] - 0s 2ms/step - loss: 0.2381 - accuracy: 0.9000\n",
            "Epoch 71/100\n",
            "24/24 [==============================] - 0s 2ms/step - loss: 0.2385 - accuracy: 0.9000\n",
            "Epoch 72/100\n",
            "24/24 [==============================] - 0s 2ms/step - loss: 0.2365 - accuracy: 0.9000\n",
            "Epoch 73/100\n",
            "24/24 [==============================] - 0s 2ms/step - loss: 0.2355 - accuracy: 0.9013\n",
            "Epoch 74/100\n",
            "24/24 [==============================] - 0s 2ms/step - loss: 0.2342 - accuracy: 0.9027\n",
            "Epoch 75/100\n",
            "24/24 [==============================] - 0s 2ms/step - loss: 0.2332 - accuracy: 0.9000\n",
            "Epoch 76/100\n",
            "24/24 [==============================] - 0s 2ms/step - loss: 0.2336 - accuracy: 0.9013\n",
            "Epoch 77/100\n",
            "24/24 [==============================] - 0s 2ms/step - loss: 0.2311 - accuracy: 0.9027\n",
            "Epoch 78/100\n",
            "24/24 [==============================] - 0s 2ms/step - loss: 0.2301 - accuracy: 0.9040\n",
            "Epoch 79/100\n",
            "24/24 [==============================] - 0s 2ms/step - loss: 0.2324 - accuracy: 0.9067\n",
            "Epoch 80/100\n",
            "24/24 [==============================] - 0s 2ms/step - loss: 0.2287 - accuracy: 0.9053\n",
            "Epoch 81/100\n",
            "24/24 [==============================] - 0s 2ms/step - loss: 0.2276 - accuracy: 0.9067\n",
            "Epoch 82/100\n",
            "24/24 [==============================] - 0s 2ms/step - loss: 0.2267 - accuracy: 0.9080\n",
            "Epoch 83/100\n",
            "24/24 [==============================] - 0s 2ms/step - loss: 0.2261 - accuracy: 0.9067\n",
            "Epoch 84/100\n",
            "24/24 [==============================] - 0s 2ms/step - loss: 0.2248 - accuracy: 0.9067\n",
            "Epoch 85/100\n",
            "24/24 [==============================] - 0s 2ms/step - loss: 0.2231 - accuracy: 0.9107\n",
            "Epoch 86/100\n",
            "24/24 [==============================] - 0s 3ms/step - loss: 0.2232 - accuracy: 0.9093\n",
            "Epoch 87/100\n",
            "24/24 [==============================] - 0s 2ms/step - loss: 0.2225 - accuracy: 0.9160\n",
            "Epoch 88/100\n",
            "24/24 [==============================] - 0s 2ms/step - loss: 0.2204 - accuracy: 0.9067\n",
            "Epoch 89/100\n",
            "24/24 [==============================] - 0s 2ms/step - loss: 0.2196 - accuracy: 0.9133\n",
            "Epoch 90/100\n",
            "24/24 [==============================] - 0s 2ms/step - loss: 0.2187 - accuracy: 0.9160\n",
            "Epoch 91/100\n",
            "24/24 [==============================] - 0s 2ms/step - loss: 0.2175 - accuracy: 0.9133\n",
            "Epoch 92/100\n",
            "24/24 [==============================] - 0s 2ms/step - loss: 0.2169 - accuracy: 0.9160\n",
            "Epoch 93/100\n",
            "24/24 [==============================] - 0s 2ms/step - loss: 0.2156 - accuracy: 0.9133\n",
            "Epoch 94/100\n",
            "24/24 [==============================] - 0s 2ms/step - loss: 0.2153 - accuracy: 0.9107\n",
            "Epoch 95/100\n",
            "24/24 [==============================] - 0s 3ms/step - loss: 0.2138 - accuracy: 0.9133\n",
            "Epoch 96/100\n",
            "24/24 [==============================] - 0s 2ms/step - loss: 0.2134 - accuracy: 0.9160\n",
            "Epoch 97/100\n",
            "24/24 [==============================] - 0s 2ms/step - loss: 0.2131 - accuracy: 0.9133\n",
            "Epoch 98/100\n",
            "24/24 [==============================] - 0s 2ms/step - loss: 0.2113 - accuracy: 0.9147\n",
            "Epoch 99/100\n",
            "24/24 [==============================] - 0s 2ms/step - loss: 0.2105 - accuracy: 0.9173\n",
            "Epoch 100/100\n",
            "24/24 [==============================] - 0s 2ms/step - loss: 0.2092 - accuracy: 0.9200\n"
          ]
        },
        {
          "output_type": "execute_result",
          "data": {
            "text/plain": [
              "<keras.callbacks.History at 0x7e43a2887640>"
            ]
          },
          "metadata": {},
          "execution_count": 108
        }
      ]
    },
    {
      "cell_type": "code",
      "source": [
        "model.summary()"
      ],
      "metadata": {
        "colab": {
          "base_uri": "https://localhost:8080/"
        },
        "id": "StOTP0MPSAlp",
        "outputId": "34fde243-8a49-46e6-a2a0-ecb3a58a53f2"
      },
      "execution_count": null,
      "outputs": [
        {
          "output_type": "stream",
          "name": "stdout",
          "text": [
            "Model: \"sequential_23\"\n",
            "_________________________________________________________________\n",
            " Layer (type)                Output Shape              Param #   \n",
            "=================================================================\n",
            " dense_47 (Dense)            (None, None, 750, 100)    1100      \n",
            "                                                                 \n",
            " dense_48 (Dense)            (None, None, 750, 100)    10100     \n",
            "                                                                 \n",
            "=================================================================\n",
            "Total params: 11,200\n",
            "Trainable params: 11,200\n",
            "Non-trainable params: 0\n",
            "_________________________________________________________________\n"
          ]
        }
      ]
    },
    {
      "cell_type": "code",
      "source": [],
      "metadata": {
        "colab": {
          "base_uri": "https://localhost:8080/",
          "height": 779
        },
        "id": "PPYrZv1_SApk",
        "outputId": "4f3b7105-fa5e-4603-cc69-3ad74831946b"
      },
      "execution_count": null,
      "outputs": [
        {
          "output_type": "stream",
          "name": "stdout",
          "text": [
            "Epoch 1/5\n"
          ]
        },
        {
          "output_type": "error",
          "ename": "ValueError",
          "evalue": "ignored",
          "traceback": [
            "\u001b[0;31m---------------------------------------------------------------------------\u001b[0m",
            "\u001b[0;31mValueError\u001b[0m                                Traceback (most recent call last)",
            "\u001b[0;32m<ipython-input-34-318c2b512b27>\u001b[0m in \u001b[0;36m<cell line: 3>\u001b[0;34m()\u001b[0m\n\u001b[1;32m      1\u001b[0m \u001b[0;31m# Fit the model\u001b[0m\u001b[0;34m\u001b[0m\u001b[0;34m\u001b[0m\u001b[0m\n\u001b[1;32m      2\u001b[0m \u001b[0;34m\u001b[0m\u001b[0m\n\u001b[0;32m----> 3\u001b[0;31m \u001b[0mmodel\u001b[0m\u001b[0;34m.\u001b[0m\u001b[0mfit\u001b[0m\u001b[0;34m(\u001b[0m\u001b[0mX_train\u001b[0m\u001b[0;34m,\u001b[0m \u001b[0my_train\u001b[0m\u001b[0;34m,\u001b[0m \u001b[0mepochs\u001b[0m\u001b[0;34m=\u001b[0m\u001b[0;36m5\u001b[0m\u001b[0;34m)\u001b[0m\u001b[0;34m\u001b[0m\u001b[0;34m\u001b[0m\u001b[0m\n\u001b[0m",
            "\u001b[0;32m/usr/local/lib/python3.10/dist-packages/keras/utils/traceback_utils.py\u001b[0m in \u001b[0;36merror_handler\u001b[0;34m(*args, **kwargs)\u001b[0m\n\u001b[1;32m     68\u001b[0m             \u001b[0;31m# To get the full stack trace, call:\u001b[0m\u001b[0;34m\u001b[0m\u001b[0;34m\u001b[0m\u001b[0m\n\u001b[1;32m     69\u001b[0m             \u001b[0;31m# `tf.debugging.disable_traceback_filtering()`\u001b[0m\u001b[0;34m\u001b[0m\u001b[0;34m\u001b[0m\u001b[0m\n\u001b[0;32m---> 70\u001b[0;31m             \u001b[0;32mraise\u001b[0m \u001b[0me\u001b[0m\u001b[0;34m.\u001b[0m\u001b[0mwith_traceback\u001b[0m\u001b[0;34m(\u001b[0m\u001b[0mfiltered_tb\u001b[0m\u001b[0;34m)\u001b[0m \u001b[0;32mfrom\u001b[0m \u001b[0;32mNone\u001b[0m\u001b[0;34m\u001b[0m\u001b[0;34m\u001b[0m\u001b[0m\n\u001b[0m\u001b[1;32m     71\u001b[0m         \u001b[0;32mfinally\u001b[0m\u001b[0;34m:\u001b[0m\u001b[0;34m\u001b[0m\u001b[0;34m\u001b[0m\u001b[0m\n\u001b[1;32m     72\u001b[0m             \u001b[0;32mdel\u001b[0m \u001b[0mfiltered_tb\u001b[0m\u001b[0;34m\u001b[0m\u001b[0;34m\u001b[0m\u001b[0m\n",
            "\u001b[0;32m/usr/local/lib/python3.10/dist-packages/keras/engine/training.py\u001b[0m in \u001b[0;36mtf__train_function\u001b[0;34m(iterator)\u001b[0m\n\u001b[1;32m     13\u001b[0m                 \u001b[0;32mtry\u001b[0m\u001b[0;34m:\u001b[0m\u001b[0;34m\u001b[0m\u001b[0;34m\u001b[0m\u001b[0m\n\u001b[1;32m     14\u001b[0m                     \u001b[0mdo_return\u001b[0m \u001b[0;34m=\u001b[0m \u001b[0;32mTrue\u001b[0m\u001b[0;34m\u001b[0m\u001b[0;34m\u001b[0m\u001b[0m\n\u001b[0;32m---> 15\u001b[0;31m                     \u001b[0mretval_\u001b[0m \u001b[0;34m=\u001b[0m \u001b[0mag__\u001b[0m\u001b[0;34m.\u001b[0m\u001b[0mconverted_call\u001b[0m\u001b[0;34m(\u001b[0m\u001b[0mag__\u001b[0m\u001b[0;34m.\u001b[0m\u001b[0mld\u001b[0m\u001b[0;34m(\u001b[0m\u001b[0mstep_function\u001b[0m\u001b[0;34m)\u001b[0m\u001b[0;34m,\u001b[0m \u001b[0;34m(\u001b[0m\u001b[0mag__\u001b[0m\u001b[0;34m.\u001b[0m\u001b[0mld\u001b[0m\u001b[0;34m(\u001b[0m\u001b[0mself\u001b[0m\u001b[0;34m)\u001b[0m\u001b[0;34m,\u001b[0m \u001b[0mag__\u001b[0m\u001b[0;34m.\u001b[0m\u001b[0mld\u001b[0m\u001b[0;34m(\u001b[0m\u001b[0miterator\u001b[0m\u001b[0;34m)\u001b[0m\u001b[0;34m)\u001b[0m\u001b[0;34m,\u001b[0m \u001b[0;32mNone\u001b[0m\u001b[0;34m,\u001b[0m \u001b[0mfscope\u001b[0m\u001b[0;34m)\u001b[0m\u001b[0;34m\u001b[0m\u001b[0;34m\u001b[0m\u001b[0m\n\u001b[0m\u001b[1;32m     16\u001b[0m                 \u001b[0;32mexcept\u001b[0m\u001b[0;34m:\u001b[0m\u001b[0;34m\u001b[0m\u001b[0;34m\u001b[0m\u001b[0m\n\u001b[1;32m     17\u001b[0m                     \u001b[0mdo_return\u001b[0m \u001b[0;34m=\u001b[0m \u001b[0;32mFalse\u001b[0m\u001b[0;34m\u001b[0m\u001b[0;34m\u001b[0m\u001b[0m\n",
            "\u001b[0;31mValueError\u001b[0m: in user code:\n\n    File \"/usr/local/lib/python3.10/dist-packages/keras/engine/training.py\", line 1284, in train_function  *\n        return step_function(self, iterator)\n    File \"/usr/local/lib/python3.10/dist-packages/keras/engine/training.py\", line 1268, in step_function  **\n        outputs = model.distribute_strategy.run(run_step, args=(data,))\n    File \"/usr/local/lib/python3.10/dist-packages/keras/engine/training.py\", line 1249, in run_step  **\n        outputs = model.train_step(data)\n    File \"/usr/local/lib/python3.10/dist-packages/keras/engine/training.py\", line 1050, in train_step\n        y_pred = self(x, training=True)\n    File \"/usr/local/lib/python3.10/dist-packages/keras/utils/traceback_utils.py\", line 70, in error_handler\n        raise e.with_traceback(filtered_tb) from None\n    File \"/usr/local/lib/python3.10/dist-packages/keras/engine/input_spec.py\", line 298, in assert_input_compatibility\n        raise ValueError(\n\n    ValueError: Input 0 of layer \"sequential_3\" is incompatible with the layer: expected shape=(None, 750, 10), found shape=(None, 10)\n"
          ]
        }
      ]
    },
    {
      "cell_type": "code",
      "source": [
        "# Evaluate the model"
      ],
      "metadata": {
        "id": "VxY8XvT-SArx"
      },
      "execution_count": null,
      "outputs": []
    },
    {
      "cell_type": "code",
      "source": [
        "model.evaluate(X_test, y_test)"
      ],
      "metadata": {
        "id": "8s1Z2aFmW6rD"
      },
      "execution_count": null,
      "outputs": []
    },
    {
      "cell_type": "code",
      "source": [
        "import tensorflow as tf\n",
        "from tensorflow import keras\n",
        "import numpy as np\n",
        "import matplotlib.pyplot as plt\n",
        "fashion = keras.datasets.fashion_mnist\n",
        "(xtrain, ytrain), (xtest, ytest) = fashion.load_data()"
      ],
      "metadata": {
        "colab": {
          "base_uri": "https://localhost:8080/"
        },
        "id": "QtAQM_GQW6vS",
        "outputId": "ca5eecc8-2682-4f49-eab0-6684ceb6f3b4"
      },
      "execution_count": null,
      "outputs": [
        {
          "output_type": "stream",
          "name": "stdout",
          "text": [
            "Downloading data from https://storage.googleapis.com/tensorflow/tf-keras-datasets/train-labels-idx1-ubyte.gz\n",
            "29515/29515 [==============================] - 0s 0us/step\n",
            "Downloading data from https://storage.googleapis.com/tensorflow/tf-keras-datasets/train-images-idx3-ubyte.gz\n",
            "26421880/26421880 [==============================] - 0s 0us/step\n",
            "Downloading data from https://storage.googleapis.com/tensorflow/tf-keras-datasets/t10k-labels-idx1-ubyte.gz\n",
            "5148/5148 [==============================] - 0s 0us/step\n",
            "Downloading data from https://storage.googleapis.com/tensorflow/tf-keras-datasets/t10k-images-idx3-ubyte.gz\n",
            "4422102/4422102 [==============================] - 0s 0us/step\n"
          ]
        }
      ]
    },
    {
      "cell_type": "code",
      "source": [
        "imgIndex = 9\n",
        "image = xtrain[imgIndex]\n",
        "print(\"Image Label :\",ytrain[imgIndex])\n",
        "plt.imshow(image)"
      ],
      "metadata": {
        "colab": {
          "base_uri": "https://localhost:8080/",
          "height": 465
        },
        "id": "0frYOoisW6zJ",
        "outputId": "bd5ade08-5d9d-4787-fff5-c6a59c390b4a"
      },
      "execution_count": null,
      "outputs": [
        {
          "output_type": "stream",
          "name": "stdout",
          "text": [
            "Image Label : 5\n"
          ]
        },
        {
          "output_type": "execute_result",
          "data": {
            "text/plain": [
              "<matplotlib.image.AxesImage at 0x7e43aac52b90>"
            ]
          },
          "metadata": {},
          "execution_count": 84
        },
        {
          "output_type": "display_data",
          "data": {
            "text/plain": [
              "<Figure size 640x480 with 1 Axes>"
            ],
            "image/png": "[encoded data removed]"
          },
          "metadata": {}
        }
      ]
    },
    {
      "cell_type": "code",
      "source": [
        "print(xtrain.shape)\n",
        "print(xtest.shape)"
      ],
      "metadata": {
        "colab": {
          "base_uri": "https://localhost:8080/"
        },
        "id": "0y7FFuqhW62X",
        "outputId": "a34f39b0-69ca-4240-cea6-193fbac0ac17"
      },
      "execution_count": null,
      "outputs": [
        {
          "output_type": "stream",
          "name": "stdout",
          "text": [
            "(60000, 28, 28)\n",
            "(10000, 28, 28)\n"
          ]
        }
      ]
    },
    {
      "cell_type": "code",
      "source": [
        "ytrain"
      ],
      "metadata": {
        "colab": {
          "base_uri": "https://localhost:8080/"
        },
        "id": "LRrZO-DW127x",
        "outputId": "b23f1d23-fa1b-4cb2-d770-c09f01e1dc3d"
      },
      "execution_count": null,
      "outputs": [
        {
          "output_type": "execute_result",
          "data": {
            "text/plain": [
              "array([4, 0, 7, ..., 3, 0, 5], dtype=uint8)"
            ]
          },
          "metadata": {},
          "execution_count": 99
        }
      ]
    },
    {
      "cell_type": "code",
      "source": [
        "model = keras.models.Sequential([\n",
        "    keras.layers.Flatten(input_shape=[28, 28]),\n",
        "    keras.layers.Dense(300, activation=\"relu\"),\n",
        "    keras.layers.Dense(100, activation=\"relu\"),\n",
        "    keras.layers.Dense(10, activation=\"softmax\")\n",
        "])\n",
        "print(model.summary())"
      ],
      "metadata": {
        "colab": {
          "base_uri": "https://localhost:8080/"
        },
        "id": "peeLCq24W663",
        "outputId": "688a2854-f427-403d-eafc-bbc5e190aac4"
      },
      "execution_count": null,
      "outputs": [
        {
          "output_type": "stream",
          "name": "stdout",
          "text": [
            "Model: \"sequential_26\"\n",
            "_________________________________________________________________\n",
            " Layer (type)                Output Shape              Param #   \n",
            "=================================================================\n",
            " flatten_14 (Flatten)        (None, 784)               0         \n",
            "                                                                 \n",
            " dense_55 (Dense)            (None, 300)               235500    \n",
            "                                                                 \n",
            " dense_56 (Dense)            (None, 100)               30100     \n",
            "                                                                 \n",
            " dense_57 (Dense)            (None, 10)                1010      \n",
            "                                                                 \n",
            "=================================================================\n",
            "Total params: 266,610\n",
            "Trainable params: 266,610\n",
            "Non-trainable params: 0\n",
            "_________________________________________________________________\n",
            "None\n"
          ]
        }
      ]
    },
    {
      "cell_type": "code",
      "source": [
        "xvalid, xtrain = xtrain[:5000]/255.0, xtrain[5000:]/255.0\n",
        "yvalid, ytrain = ytrain[:5000], ytrain[5000:]"
      ],
      "metadata": {
        "id": "RG1XAERrzh4c"
      },
      "execution_count": null,
      "outputs": []
    },
    {
      "cell_type": "code",
      "source": [
        "model.compile(loss=\"sparse_categorical_crossentropy\",\n",
        "              optimizer=\"sgd\",\n",
        "              metrics=[\"accuracy\"])\n",
        "history = model.fit(xtrain, ytrain, epochs=30,\n",
        "                    validation_data=(xvalid, yvalid))"
      ],
      "metadata": {
        "colab": {
          "base_uri": "https://localhost:8080/"
        },
        "id": "HJZi22tFyuuy",
        "outputId": "811b9f4e-29a3-4ddd-cfde-e3f2e9940521"
      },
      "execution_count": null,
      "outputs": [
        {
          "output_type": "stream",
          "name": "stdout",
          "text": [
            "Epoch 1/30\n",
            "1719/1719 [==============================] - 9s 5ms/step - loss: 0.7098 - accuracy: 0.7710 - val_loss: 0.5044 - val_accuracy: 0.8274\n",
            "Epoch 2/30\n",
            "1719/1719 [==============================] - 9s 5ms/step - loss: 0.4871 - accuracy: 0.8314 - val_loss: 0.4451 - val_accuracy: 0.8494\n",
            "Epoch 3/30\n",
            "1719/1719 [==============================] - 9s 5ms/step - loss: 0.4435 - accuracy: 0.8449 - val_loss: 0.4173 - val_accuracy: 0.8582\n",
            "Epoch 4/30\n",
            "1719/1719 [==============================] - 8s 5ms/step - loss: 0.4161 - accuracy: 0.8533 - val_loss: 0.4086 - val_accuracy: 0.8626\n",
            "Epoch 5/30\n",
            "1719/1719 [==============================] - 9s 5ms/step - loss: 0.3958 - accuracy: 0.8609 - val_loss: 0.3854 - val_accuracy: 0.8654\n",
            "Epoch 6/30\n",
            "1719/1719 [==============================] - 9s 5ms/step - loss: 0.3802 - accuracy: 0.8648 - val_loss: 0.3667 - val_accuracy: 0.8722\n",
            "Epoch 7/30\n",
            "1719/1719 [==============================] - 8s 5ms/step - loss: 0.3664 - accuracy: 0.8701 - val_loss: 0.3618 - val_accuracy: 0.8746\n",
            "Epoch 8/30\n",
            "1719/1719 [==============================] - 9s 5ms/step - loss: 0.3541 - accuracy: 0.8735 - val_loss: 0.3581 - val_accuracy: 0.8738\n",
            "Epoch 9/30\n",
            "1719/1719 [==============================] - 9s 5ms/step - loss: 0.3444 - accuracy: 0.8775 - val_loss: 0.3586 - val_accuracy: 0.8736\n",
            "Epoch 10/30\n",
            "1719/1719 [==============================] - 8s 4ms/step - loss: 0.3348 - accuracy: 0.8813 - val_loss: 0.3437 - val_accuracy: 0.8798\n",
            "Epoch 11/30\n",
            "1719/1719 [==============================] - 9s 5ms/step - loss: 0.3266 - accuracy: 0.8829 - val_loss: 0.3568 - val_accuracy: 0.8744\n",
            "Epoch 12/30\n",
            "1719/1719 [==============================] - 9s 5ms/step - loss: 0.3174 - accuracy: 0.8867 - val_loss: 0.3358 - val_accuracy: 0.8830\n",
            "Epoch 13/30\n",
            "1719/1719 [==============================] - 8s 5ms/step - loss: 0.3099 - accuracy: 0.8892 - val_loss: 0.3510 - val_accuracy: 0.8756\n",
            "Epoch 14/30\n",
            "1719/1719 [==============================] - 9s 5ms/step - loss: 0.3038 - accuracy: 0.8905 - val_loss: 0.3230 - val_accuracy: 0.8858\n",
            "Epoch 15/30\n",
            "1719/1719 [==============================] - 9s 5ms/step - loss: 0.2962 - accuracy: 0.8933 - val_loss: 0.3226 - val_accuracy: 0.8852\n",
            "Epoch 16/30\n",
            "1719/1719 [==============================] - 8s 5ms/step - loss: 0.2908 - accuracy: 0.8951 - val_loss: 0.3305 - val_accuracy: 0.8842\n",
            "Epoch 17/30\n",
            "1719/1719 [==============================] - 9s 5ms/step - loss: 0.2850 - accuracy: 0.8970 - val_loss: 0.3255 - val_accuracy: 0.8854\n",
            "Epoch 18/30\n",
            "1719/1719 [==============================] - 10s 6ms/step - loss: 0.2790 - accuracy: 0.8991 - val_loss: 0.3076 - val_accuracy: 0.8922\n",
            "Epoch 19/30\n",
            "1719/1719 [==============================] - 8s 5ms/step - loss: 0.2745 - accuracy: 0.9003 - val_loss: 0.3254 - val_accuracy: 0.8878\n",
            "Epoch 20/30\n",
            "1719/1719 [==============================] - 9s 5ms/step - loss: 0.2691 - accuracy: 0.9023 - val_loss: 0.3071 - val_accuracy: 0.8912\n",
            "Epoch 21/30\n",
            "1719/1719 [==============================] - 9s 5ms/step - loss: 0.2643 - accuracy: 0.9050 - val_loss: 0.3011 - val_accuracy: 0.8928\n",
            "Epoch 22/30\n",
            "1719/1719 [==============================] - 8s 5ms/step - loss: 0.2591 - accuracy: 0.9061 - val_loss: 0.3105 - val_accuracy: 0.8898\n",
            "Epoch 23/30\n",
            "1719/1719 [==============================] - 9s 5ms/step - loss: 0.2547 - accuracy: 0.9092 - val_loss: 0.3180 - val_accuracy: 0.8898\n",
            "Epoch 24/30\n",
            "1719/1719 [==============================] - 9s 5ms/step - loss: 0.2498 - accuracy: 0.9113 - val_loss: 0.2936 - val_accuracy: 0.8942\n",
            "Epoch 25/30\n",
            "1719/1719 [==============================] - 8s 5ms/step - loss: 0.2450 - accuracy: 0.9115 - val_loss: 0.3018 - val_accuracy: 0.8934\n",
            "Epoch 26/30\n",
            "1719/1719 [==============================] - 9s 5ms/step - loss: 0.2415 - accuracy: 0.9131 - val_loss: 0.2985 - val_accuracy: 0.8952\n",
            "Epoch 27/30\n",
            "1719/1719 [==============================] - 9s 5ms/step - loss: 0.2370 - accuracy: 0.9150 - val_loss: 0.2966 - val_accuracy: 0.8954\n",
            "Epoch 28/30\n",
            "1719/1719 [==============================] - 8s 5ms/step - loss: 0.2327 - accuracy: 0.9164 - val_loss: 0.3442 - val_accuracy: 0.8820\n",
            "Epoch 29/30\n",
            "1719/1719 [==============================] - 9s 5ms/step - loss: 0.2295 - accuracy: 0.9177 - val_loss: 0.2947 - val_accuracy: 0.8942\n",
            "Epoch 30/30\n",
            "1719/1719 [==============================] - 9s 5ms/step - loss: 0.2250 - accuracy: 0.9193 - val_loss: 0.2895 - val_accuracy: 0.8952\n"
          ]
        }
      ]
    },
    {
      "cell_type": "code",
      "source": [],
      "metadata": {
        "id": "0P3MBk9Kyuyz"
      },
      "execution_count": null,
      "outputs": []
    },
    {
      "cell_type": "code",
      "source": [],
      "metadata": {
        "id": "exIDGJc6yu2p"
      },
      "execution_count": null,
      "outputs": []
    },
    {
      "cell_type": "code",
      "source": [],
      "metadata": {
        "id": "v-MVpmCryu6v"
      },
      "execution_count": null,
      "outputs": []
    },
    {
      "cell_type": "code",
      "source": [],
      "metadata": {
        "id": "JqjfOd5vyu_E"
      },
      "execution_count": null,
      "outputs": []
    }
  ]
}